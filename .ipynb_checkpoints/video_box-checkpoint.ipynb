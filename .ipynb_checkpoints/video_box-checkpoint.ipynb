{
 "cells": [
  {
   "cell_type": "markdown",
   "id": "3487c99e",
   "metadata": {},
   "source": [
    "# Load video"
   ]
  },
  {
   "cell_type": "code",
   "execution_count": null,
   "id": "d5b69bf0",
   "metadata": {},
   "outputs": [],
   "source": [
    "import tkinter as tk\n",
    "import tkinter.filedialog as fd\n",
    "import pickle\n",
    "import os\n",
    "\n",
    "root = tk.Tk()\n",
    "filez = fd.askopenfilenames(parent=root, title='Choose files')\n",
    "root.destroy()\n",
    "print(filez)\n",
    "\n",
    "# create folder for modified videos\n",
    "slash_index = [i for i,x in enumerate(filez[0]) if x=='/']\n",
    "outpath = filez[0][:slash_index[-1]+1] + 'modified_video/'\n",
    "frame_path = outpath+'images/'\n",
    "video = filez[0]\n",
    "print('new video saved in: '+outpath)\n",
    "print('imported video name: '+video)\n",
    "\n",
    "if not os.path.exists(outpath):\n",
    "    os.makedirs(outpath)\n",
    "if not os.path.exists(frame_path):\n",
    "    os.makedirs(frame_path)"
   ]
  },
  {
   "cell_type": "markdown",
   "id": "7fa44f2f",
   "metadata": {},
   "source": [
    "# Load .h5 data\n",
    "load .h5 exported from SLEAP"
   ]
  },
  {
   "cell_type": "code",
   "execution_count": 15,
   "id": "2d4af241",
   "metadata": {},
   "outputs": [
    {
     "name": "stdout",
     "output_type": "stream",
     "text": [
      "('D:/Free Moving/project videos/walking_exp.v001.000_walking_exp.analysis.h5',)\n",
      "[b'snout' b'tail' b'leftforepaw' b'rightforepaw' b'leftrearpaw'\n",
      " b'rightrearpaw' b'tail-1']\n"
     ]
    }
   ],
   "source": [
    "import h5py\n",
    "\n",
    "root = tk.Tk()\n",
    "filez = fd.askopenfilenames(parent=root, title='Choose files')\n",
    "root.destroy()\n",
    "print(filez)\n",
    "\n",
    "with h5py.File(filez[0], 'r') as f:\n",
    "    occupancy_matrix = f['track_occupancy'][:]\n",
    "    tracks = f['tracks'][:]\n",
    "    tracks_name = f['track_names'][:]\n",
    "    node_name = f['node_names'][:]\n",
    "print(node_name)"
   ]
  },
  {
   "cell_type": "markdown",
   "id": "67921183",
   "metadata": {
    "heading_collapsed": true
   },
   "source": [
    "# local functions"
   ]
  },
  {
   "cell_type": "code",
   "execution_count": 16,
   "id": "6f9ea8e2",
   "metadata": {
    "hidden": true
   },
   "outputs": [],
   "source": [
    "from scipy.interpolate import interp1d\n",
    "\n",
    "def fill_missing(Y, kind=\"linear\"):\n",
    "    \"\"\"Fills missing values independently along each dimension after the first.\"\"\"\n",
    "\n",
    "    # Store initial shape.\n",
    "    initial_shape = Y.shape\n",
    "\n",
    "    # Flatten after first dim.\n",
    "    Y = Y.reshape((initial_shape[0], -1))\n",
    "\n",
    "    # Interpolate along each slice.\n",
    "    for i in range(Y.shape[-1]):\n",
    "        y = Y[:, i]\n",
    "\n",
    "        # Build interpolant.\n",
    "        x = np.flatnonzero(~np.isnan(y))\n",
    "        f = interp1d(x, y[x], kind=kind, fill_value=np.nan, bounds_error=False)\n",
    "\n",
    "        # Fill missing\n",
    "        xq = np.flatnonzero(np.isnan(y))\n",
    "        y[xq] = f(xq)\n",
    "        \n",
    "        # Fill leading or trailing NaNs with the nearest non-NaN values\n",
    "        mask = np.isnan(y)\n",
    "        y[mask] = np.interp(np.flatnonzero(mask), np.flatnonzero(~mask), y[~mask])\n",
    "\n",
    "        # Save slice\n",
    "        Y[:, i] = y\n",
    "\n",
    "    # Restore to initial shape.\n",
    "    Y = Y.reshape(initial_shape)\n",
    "\n",
    "    return Y\n",
    "\n",
    "import math\n",
    "import cv2\n",
    "import numpy as np\n",
    "def rotate_image(image, angle):\n",
    "    \"\"\"\n",
    "    Rotates an OpenCV 2 / NumPy image about it's centre by the given angle\n",
    "    (in degrees). The returned image will be large enough to hold the entire\n",
    "    new image, with a black background\n",
    "    \"\"\"\n",
    "\n",
    "    # Get the image size\n",
    "    # No that's not an error - NumPy stores image matricies backwards\n",
    "    image_size = (image.shape[1], image.shape[0])\n",
    "    image_center = tuple(np.array(image_size) / 2)\n",
    "\n",
    "    # Convert the OpenCV 3x2 rotation matrix to 3x3\n",
    "    rot_mat = np.vstack(\n",
    "        [cv2.getRotationMatrix2D(image_center, angle, 1.0), [0, 0, 1]]\n",
    "    )\n",
    "\n",
    "    rot_mat_notranslate = np.matrix(rot_mat[0:2, 0:2])\n",
    "\n",
    "    # Shorthand for below calcs\n",
    "    image_w2 = image_size[0] * 0.5\n",
    "    image_h2 = image_size[1] * 0.5\n",
    "\n",
    "    # Obtain the rotated coordinates of the image corners\n",
    "    rotated_coords = [\n",
    "        (np.array([-image_w2,  image_h2]) * rot_mat_notranslate).A[0],\n",
    "        (np.array([ image_w2,  image_h2]) * rot_mat_notranslate).A[0],\n",
    "        (np.array([-image_w2, -image_h2]) * rot_mat_notranslate).A[0],\n",
    "        (np.array([ image_w2, -image_h2]) * rot_mat_notranslate).A[0]\n",
    "    ]\n",
    "\n",
    "    # Find the size of the new image\n",
    "    x_coords = [pt[0] for pt in rotated_coords]\n",
    "    x_pos = [x for x in x_coords if x > 0]\n",
    "    x_neg = [x for x in x_coords if x < 0]\n",
    "\n",
    "    y_coords = [pt[1] for pt in rotated_coords]\n",
    "    y_pos = [y for y in y_coords if y > 0]\n",
    "    y_neg = [y for y in y_coords if y < 0]\n",
    "\n",
    "    right_bound = max(x_pos)\n",
    "    left_bound = min(x_neg)\n",
    "    top_bound = max(y_pos)\n",
    "    bot_bound = min(y_neg)\n",
    "\n",
    "    new_w = int(abs(right_bound - left_bound))\n",
    "    new_h = int(abs(top_bound - bot_bound))\n",
    "\n",
    "    # We require a translation matrix to keep the image centred\n",
    "    trans_mat = np.matrix([\n",
    "        [1, 0, int(new_w * 0.5 - image_w2)],\n",
    "        [0, 1, int(new_h * 0.5 - image_h2)],\n",
    "        [0, 0, 1]\n",
    "    ])\n",
    "\n",
    "    # Compute the tranform for the combined rotation and translation\n",
    "    affine_mat = (np.matrix(trans_mat) * np.matrix(rot_mat))[0:2, :]\n",
    "\n",
    "    # Apply the transform\n",
    "    result = cv2.warpAffine(\n",
    "        image,\n",
    "        affine_mat,\n",
    "        (new_w, new_h),\n",
    "        flags=cv2.INTER_LINEAR\n",
    "    )\n",
    "\n",
    "    return result"
   ]
  },
  {
   "cell_type": "markdown",
   "id": "79ebb922",
   "metadata": {
    "heading_collapsed": true
   },
   "source": [
    "# clean h5 data"
   ]
  },
  {
   "cell_type": "code",
   "execution_count": 17,
   "id": "0dcc7be1",
   "metadata": {
    "hidden": true
   },
   "outputs": [],
   "source": [
    "import numpy as np\n",
    "\n",
    "x = tracks[0,0,2,0:]\n",
    "y = tracks[0,1,2,0:]\n",
    "lf = np.asarray([tracks[0,0,2,0:],tracks[0,1,2,0:]])\n",
    "rf = np.asarray([tracks[0,0,3,0:],tracks[0,1,3,0:]])\n",
    "lr = np.asarray([tracks[0,0,4,0:],tracks[0,1,4,0:]])\n",
    "rr = np.asarray([tracks[0,0,5,0:],tracks[0,1,5,0:]])\n",
    "nose = np.asarray([tracks[0,0,0,0:],tracks[0,1,0,0:]])\n",
    "tail = np.asarray([tracks[0,0,1,0:],tracks[0,1,1,0:]])\n",
    "tail1 = np.asarray([tracks[0,0,6,0:],tracks[0,1,6,0:]])\n",
    "\n",
    "lf = fill_missing(lf.T)\n",
    "lr = fill_missing(lr.T)\n",
    "rf = fill_missing(rf.T)\n",
    "rr = fill_missing(rr.T)\n",
    "nose = fill_missing(nose.T)\n",
    "tail = fill_missing(tail.T)\n",
    "tail1 = fill_missing(tail1.T)\n",
    "\n",
    "body_center = (nose + tail)/2\n",
    "head_angle = nose-tail\n",
    "head_angle = head_angle[:,1]/head_angle[:,0]\n",
    "head_angle = np.arctan(head_angle)*180/np.pi"
   ]
  },
  {
   "cell_type": "markdown",
   "id": "3d80496f",
   "metadata": {
    "heading_collapsed": true
   },
   "source": [
    "# Create labeled video and images\n",
    "good"
   ]
  },
  {
   "cell_type": "code",
   "execution_count": 32,
   "id": "8004c8d0",
   "metadata": {
    "hidden": true
   },
   "outputs": [],
   "source": [
    "import numpy as np\n",
    "import cv2\n",
    "\n",
    "saveName = outpath + 'labeled_walking_exp.mp4'\n",
    "cap = cv2.VideoCapture(video)\n",
    "imageWidth = int(cap.get(3))\n",
    "imageHeight = int(cap.get(4))\n",
    "fps = cap.get(cv2.CAP_PROP_FPS)\n",
    "fourcc = cv2.VideoWriter_fourcc('m', 'p', '4', 'v')\n",
    "out = cv2.VideoWriter(saveName, fourcc, fps, (imageWidth, imageHeight), 0)\n",
    "\n",
    "i = 0\n",
    "\n",
    "while(cap.isOpened()):\n",
    "    ret, frame = cap.read()\n",
    "    \n",
    "    if ret == False:\n",
    "        break\n",
    "    cv2.imwrite(outpath + 'images/video_'+ str(i) + '.jpg',frame)\n",
    "    cv2.circle(img=frame, center = (int(lf[i,0]),int(lf[i,1])), \\\n",
    "               radius =5, color =(0, 0, 255), thickness=-1)\n",
    "    cv2.circle(img=frame, center = (int(lr[i,0]),int(lr[i,1])), \\\n",
    "               radius =5, color =(0, 255, 0), thickness=-1)\n",
    "    cv2.circle(img=frame, center = (int(rf[i,0]),int(rf[i,1])), \\\n",
    "               radius =5, color =(255, 0, 0), thickness=-1)\n",
    "    cv2.circle(img=frame, center = (int(rr[i,0]),int(rr[i,1])), \\\n",
    "               radius =5, color =(255, 0, 255), thickness=-1)\n",
    "    cv2.circle(img=frame, center = (int(nose[i,0]),int(nose[i,1])), \\\n",
    "               radius =5, color =(71, 255, 255), thickness=-1)\n",
    "    cv2.circle(img=frame, center = (int(tail[i,0]),int(tail[i,1])), \\\n",
    "               radius =5, color =(71, 255, 255), thickness=-1)\n",
    "    img=frame\n",
    "    start_point=(int(tail[i,0]), int(tail[i,1]))\n",
    "    end_point=(int(nose[i,0]), int(nose[i,1]))\n",
    "    color =(71, 255, 255)\n",
    "    thickness=1\n",
    "    cv2.line(img, start_point, end_point, color, thickness)\n",
    "    #save labled frames\n",
    "    cv2.imwrite(outpath + 'images/video_'+ str(i) + '.jpg',frame)\n",
    "    #save labled video\n",
    "    out.write(frame)\n",
    "    \n",
    "    i+=1\n",
    "        \n",
    "cap.release()\n",
    "out.release()\n",
    "cv2.destroyAllWindows()"
   ]
  },
  {
   "cell_type": "code",
   "execution_count": 27,
   "id": "51a3911c",
   "metadata": {
    "hidden": true
   },
   "outputs": [
    {
     "data": {
      "text/plain": [
       "'D:/Free Moving/project videos/modified_video/'"
      ]
     },
     "execution_count": 27,
     "metadata": {},
     "output_type": "execute_result"
    }
   ],
   "source": [
    "outpath"
   ]
  },
  {
   "cell_type": "markdown",
   "id": "2aeaf8e1",
   "metadata": {
    "heading_collapsed": true
   },
   "source": [
    "# Create slow-motion video\n",
    "good<br>\n",
    "adjust fps in main()"
   ]
  },
  {
   "cell_type": "code",
   "execution_count": 35,
   "id": "1d71f770",
   "metadata": {
    "hidden": true
   },
   "outputs": [],
   "source": [
    "import cv2\n",
    "import numpy as np\n",
    "import os\n",
    "from os.path import isfile, join\n",
    "def convert_frames_to_video(pathIn,pathOut,fps):\n",
    "    frame_array = []\n",
    "    files = [f for f in os.listdir(pathIn) if isfile(join(pathIn, f))]\n",
    "    #for sorting the file names properly\n",
    "    files.sort(key = lambda x: int(x[6:-4]))\n",
    "    for i in range(len(files)):\n",
    "        filename=pathIn + files[i]\n",
    "        #reading each files\n",
    "        img = cv2.imread(filename)\n",
    "        '''\n",
    "        #crop frames\n",
    "        height, width, layers = img.shape\n",
    "        cropped_image = img[80:width-1020, 1000:height-100]\n",
    "        height, width, layers = cropped_image.shape\n",
    "        '''\n",
    "        #inserting the frames into an image array\n",
    "        frame_array.append(img)\n",
    "        \n",
    "    height, width, layers = img.shape\n",
    "    fourcc = cv2.VideoWriter_fourcc('m', 'p', '4', 'v')\n",
    "    out = cv2.VideoWriter(pathOut, fourcc, fps, (width, height))\n",
    "    for i in range(len(frame_array)):\n",
    "        # writing to a image array\n",
    "        out.write(frame_array[i])\n",
    "    out.release()\n",
    "    \n",
    "def main():\n",
    "    pathIn = frame_path\n",
    "    pathOut = outpath+'slow_walking_exp.mp4'\n",
    "    fps = 10.0\n",
    "    convert_frames_to_video(pathIn, pathOut, fps)\n",
    "    \n",
    "if __name__==\"__main__\":\n",
    "    main()"
   ]
  },
  {
   "cell_type": "markdown",
   "id": "c29e85a5",
   "metadata": {
    "heading_collapsed": true
   },
   "source": [
    "# Create cropped video"
   ]
  },
  {
   "cell_type": "code",
   "execution_count": 38,
   "id": "67726e9c",
   "metadata": {
    "hidden": true
   },
   "outputs": [],
   "source": [
    "import cv2\n",
    "import numpy as np\n",
    "import os\n",
    "from os.path import isfile, join\n",
    "def crop_mouse(pathIn,pathOut,bdc,margin):\n",
    "    frame_array = []\n",
    "    files = [f for f in os.listdir(pathIn) if isfile(join(pathIn, f))]\n",
    "    #for sorting the file names properly\n",
    "    files.sort(key = lambda x: int(x[6:-4]))\n",
    "    for i in range(len(files)):\n",
    "        filename=pathIn + files[i]\n",
    "        #reading each files\n",
    "        img = cv2.imread(filename)\n",
    "        height, width, layers = img.shape\n",
    "        bdy, bdx= int(bdc[i,0]), int(bdc[i,1])\n",
    "        cropped_image = img[bdx-margin:bdx+margin, bdy-margin:bdy+margin]\n",
    "        \n",
    "        height, width, layers = cropped_image.shape\n",
    "        size = (width,height)\n",
    "        #print(filename)\n",
    "        #inserting the frames into an image array\n",
    "        frame_array.append(cropped_image)\n",
    "        \n",
    "    fourcc = cv2.VideoWriter_fourcc('m', 'p', '4', 'v')\n",
    "    out = cv2.VideoWriter(pathOut,fourcc, 10, size)\n",
    "    for i in range(len(frame_array)):\n",
    "        # writing to a image array\n",
    "        out.write(frame_array[i])\n",
    "    out.release()\n",
    "def main():\n",
    "    pathIn= frame_path\n",
    "    pathOut = outpath + 'cropped_walking_exp.mp4'\n",
    "    margin = 200\n",
    "    crop_mouse(pathIn, pathOut, body_center, margin)\n",
    "if __name__==\"__main__\":\n",
    "    main()"
   ]
  },
  {
   "cell_type": "markdown",
   "id": "2eec318e",
   "metadata": {
    "heading_collapsed": true
   },
   "source": [
    "# Test crop and rotation in single frame\n",
    "good<br>\n",
    "basically, select one frame and play with rotation&cropping parameters<br>\n",
    "you can adjust the following parameters:<br>\n",
    "1. margin: size of the ROI square\n",
    "2. margin_h/margin_w: fine parameters for further trim"
   ]
  },
  {
   "cell_type": "code",
   "execution_count": 43,
   "id": "acba6a1a",
   "metadata": {
    "hidden": true
   },
   "outputs": [],
   "source": [
    "import cv2\n",
    "\n",
    "frame = 0 #input frame number for test\n",
    "\n",
    "img = cv2.imread(f'{frame_path}video_{frame}.jpg')\n",
    "height, width, layers= img.shape\n",
    "\n",
    "# first crop: put animal in the centor of image\n",
    "margin = 200\n",
    "bdy, bdx= int(body_center[frame,0]), int(body_center[frame,1])\n",
    "cropped_image = img[bdx-margin:bdx+margin, bdy-margin:bdy+margin]\n",
    "\n",
    "# rotation + crop:\n",
    "# 1. rotate image; 2. further trim\n",
    "margin_h = 80\n",
    "margin_w = 150\n",
    "cropped_image = rotate_image(cropped_image, -1*head_angle[frame])\n",
    "h1,w1 = cropped_image.shape[0:2]\n",
    "h1,w1 = int(h1/2), int(w1/2) # new center\n",
    "cropped_image = cropped_image[w1-margin_w:w1+margin_w, h1-margin_h:h1+margin_h] # 2nd crop\n",
    "cv2.imwrite(outpath + 'video_'+ str(frame) + '_crop_rotated.jpg',cropped_image)\n",
    " \n",
    "# Display cropped imaged\n",
    "cv2.imshow(\"cropped&rotated_frame\", cropped_image)\n",
    "cv2.waitKey(3000) #wait 3s\n",
    "cv2.destroyAllWindows()"
   ]
  },
  {
   "cell_type": "markdown",
   "id": "c107858d",
   "metadata": {
    "heading_collapsed": true
   },
   "source": [
    "# Create cropped + rotated video\n",
    "good"
   ]
  },
  {
   "cell_type": "code",
   "execution_count": 37,
   "id": "08a131b8",
   "metadata": {
    "hidden": true
   },
   "outputs": [],
   "source": [
    "import cv2\n",
    "import numpy as np\n",
    "import os\n",
    "from os.path import isfile, join\n",
    "def crop_mouse(pathIn,pathOut,bdc,ha, margin, margin_h, margin_w):\n",
    "    frame_array = []\n",
    "    files = [f for f in os.listdir(pathIn) if isfile(join(pathIn, f))]\n",
    "    #for sorting the file names properly\n",
    "    files.sort(key = lambda x: int(x[6:-4]))\n",
    "    for i in range(len(files)):\n",
    "        filename=pathIn + files[i]\n",
    "        #reading each files\n",
    "        img = cv2.imread(filename)\n",
    "        height, width, layers = img.shape\n",
    "        bdy, bdx= int(bdc[i,0]), int(bdc[i,1])\n",
    "        cropped_image = img[bdx-margin:bdx+margin, bdy-margin:bdy+margin]\n",
    "        \n",
    "        cropped_image = rotate_image(cropped_image, -1*ha[i])\n",
    "        h1,w1 = cropped_image.shape[0:2]\n",
    "        h1,w1 = int(h1/2), int(w1/2)\n",
    "        cropped_image = cropped_image[w1-margin_w:w1+margin_w, h1-margin_h:h1+margin_h]\n",
    "        # save cropped frames\n",
    "        #cv2.imwrite(outpath + 'images_cropped/video_'+ str(i) + '.jpg',cropped_image)\n",
    "        \n",
    "        height, width, layers = cropped_image.shape\n",
    "        size = (width,height)\n",
    "        #print(filename)\n",
    "        #inserting the frames into an image array\n",
    "        frame_array.append(cropped_image)\n",
    "        \n",
    "    fourcc = cv2.VideoWriter_fourcc('m', 'p', '4', 'v')\n",
    "    out = cv2.VideoWriter(pathOut,fourcc, 10, size)\n",
    "    for i in range(len(frame_array)):\n",
    "        # writing to a image array\n",
    "        out.write(frame_array[i])\n",
    "    out.release()\n",
    "def main():\n",
    "    pathIn= frame_path\n",
    "    pathOut = outpath + 'cropped_rotated_walking_exp.mp4'\n",
    "    margin = 200\n",
    "    margin_h = 80\n",
    "    margin_w = 150\n",
    "    crop_mouse(pathIn, pathOut, body_center, head_angle, margin, margin_h, margin_w)\n",
    "if __name__==\"__main__\":\n",
    "    main()"
   ]
  }
 ],
 "metadata": {
  "kernelspec": {
   "display_name": "video_box",
   "language": "python",
   "name": "video_box"
  },
  "language_info": {
   "codemirror_mode": {
    "name": "ipython",
    "version": 3
   },
   "file_extension": ".py",
   "mimetype": "text/x-python",
   "name": "python",
   "nbconvert_exporter": "python",
   "pygments_lexer": "ipython3",
   "version": "3.10.2"
  }
 },
 "nbformat": 4,
 "nbformat_minor": 5
}
